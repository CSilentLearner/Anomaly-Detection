{
 "cells": [
  {
   "cell_type": "markdown",
   "metadata": {},
   "source": [
    "### 3δ准则\n",
    "\n",
    "3σ准则是指先假设一组检测数据只含有随机误差，对其进行计算处理得到标准偏差，按一定概率确定一个区间，认为凡超过这个区间的误差，就不属于随机误差而是粗大误差，含有该误差的数据应予以剔除。\n",
    "\n",
    "这种判别处理原理及方法仅局限于对正态或近似正态分布的样本数据处理，它是以测量次数充分大为前提（样本>10），当测量次数少的情形用准则剔除粗大误差是不够可靠的。\n",
    "3σ法则为：\n",
    "\n",
    "    数值分布在（μ-σ,μ+σ)中的概率为0.6827\n",
    "    \n",
    "    数值分布在（μ-2σ,μ+2σ)中的概率为0.9545\n",
    "    \n",
    "    数值分布在（μ-3σ,μ+3σ)中的概率为0.9973\n",
    "\n",
    "可以认为，Y 的取值几乎全部集中在（μ-3σ,μ+3σ)区间内，超出这个范围的可能性仅占不到0.3%\n"
   ]
  },
  {
   "cell_type": "code",
   "execution_count": 1,
   "metadata": {
    "scrolled": false
   },
   "outputs": [
    {
     "name": "stdout",
     "output_type": "stream",
     "text": [
      "下限：  -40.01800995575444\n",
      "上限：  80.00117401256483\n"
     ]
    }
   ],
   "source": [
    "import numpy as np\n",
    "import pandas as pd\n",
    "import matplotlib.pyplot as plt\n",
    "np.random.seed(42)\n",
    "anomalies = []\n",
    "normal = []\n",
    "# 生成一些数据\n",
    "data = np.random.randn(50000)  * 20 + 20\n",
    "\n",
    "# 在一维数据集上检测离群点的函数\n",
    "def find_anomalies(random_data):\n",
    "    # 将上、下限设为3倍标准差\n",
    "    random_data_std = np.std(random_data)\n",
    "    random_data_mean = np.mean(random_data)\n",
    "    anomaly_cut_off = random_data_std * 3\n",
    "\n",
    "    lower_limit  = random_data_mean - anomaly_cut_off \n",
    "    upper_limit = random_data_mean + anomaly_cut_off\n",
    "    print(\"下限： \",lower_limit)\n",
    "    print(\"上限： \",upper_limit)\n",
    "    # 异常\n",
    "    for outlier in random_data:\n",
    "        if outlier > upper_limit or outlier < lower_limit:\n",
    "            anomalies.append(outlier)\n",
    "        else:\n",
    "            normal.append(outlier)\n",
    "    return pd.DataFrame(anomalies,columns=[\"异常值\"]),pd.DataFrame(normal,columns=[\"正常值\"])\n",
    "\n",
    "anomalies,normal = find_anomalies(data)"
   ]
  },
  {
   "cell_type": "markdown",
   "metadata": {},
   "source": [
    "### 四分位法\n",
    "\n",
    "四分位间距对定义离群点非常重要。它是第三个四分位数和第一个四分位数的差 (IQR = Q3 -Q1)。在这种情况下，离群点被定义为低于箱形图下触须（或 Q1 − 1.5x IQR）或高于箱形图上触须（或 Q3 + 1.5x IQR）的观测值。"
   ]
  },
  {
   "cell_type": "code",
   "execution_count": 2,
   "metadata": {},
   "outputs": [
    {
     "name": "stdout",
     "output_type": "stream",
     "text": [
      "下限：  [-34.24307094]\n",
      "上限：  [47.09806249]\n"
     ]
    }
   ],
   "source": [
    "import numpy as np\n",
    "import pandas as pd\n",
    "import matplotlib.pyplot as plt\n",
    "np.random.seed(42)\n",
    "anomalies = []\n",
    "normal = []\n",
    "# 生成一些数据\n",
    "data = np.random.randn(50000)  * 20 + 20\n",
    "\n",
    "# 在一维数据集上检测离群点的函数\n",
    "def find_anomalies(random_data):\n",
    "    # 将上、下限设为3倍标准差\n",
    "    iqr_25 = np.percentile(random_data, [25])\n",
    "    iqr_75 = np.percentile(random_data, [75])\n",
    "\n",
    "    lower_limit  = iqr_25 - 1.5 * (iqr_75 - iqr_25) \n",
    "    upper_limit = iqr_25 + 1.5 * (iqr_75 - iqr_25)\n",
    "    print(\"下限： \",lower_limit)\n",
    "    print(\"上限： \",upper_limit)\n",
    "    # 异常\n",
    "    for outlier in random_data:\n",
    "        if outlier > upper_limit or outlier < lower_limit:\n",
    "            anomalies.append(outlier)\n",
    "        else:\n",
    "            normal.append(outlier)\n",
    "    return pd.DataFrame(anomalies,columns=[\"异常值\"]),pd.DataFrame(normal,columns=[\"正常值\"])\n",
    "\n",
    "anomalies,normal = find_anomalies(data)"
   ]
  },
  {
   "cell_type": "code",
   "execution_count": null,
   "metadata": {},
   "outputs": [],
   "source": []
  }
 ],
 "metadata": {
  "kernelspec": {
   "display_name": "Python 3",
   "language": "python",
   "name": "python3"
  },
  "language_info": {
   "codemirror_mode": {
    "name": "ipython",
    "version": 3
   },
   "file_extension": ".py",
   "mimetype": "text/x-python",
   "name": "python",
   "nbconvert_exporter": "python",
   "pygments_lexer": "ipython3",
   "version": "3.7.4"
  }
 },
 "nbformat": 4,
 "nbformat_minor": 4
}
