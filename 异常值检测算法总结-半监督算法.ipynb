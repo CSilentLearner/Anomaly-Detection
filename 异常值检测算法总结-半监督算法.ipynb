{
 "cells": [
  {
   "cell_type": "markdown",
   "metadata": {},
   "source": [
    "## 1.半监督学习算法\n",
    "\n",
    "半监督学习的算法适用于只有正常数据，没有异常数据的情况下，这种异常值检测也被称作为新奇点检测。这类算法主要有：\n",
    "\n",
    "    Local Outlier Factor（LOF）\n",
    "    \n",
    "    One-Class SVM\n",
    "\n",
    "**数据准备**\n",
    "\n",
    "解释：因为是训练模型，所以这里人为的加入了标签，目的在于评价模型预测结果\n",
    "\n",
    "**训练集**"
   ]
  },
  {
   "cell_type": "code",
   "execution_count": 1,
   "metadata": {},
   "outputs": [
    {
     "name": "stdout",
     "output_type": "stream",
     "text": [
      "(49999, 13)\n",
      "(49999,)\n",
      "1    49999\n",
      "Name: target, dtype: int64\n"
     ]
    }
   ],
   "source": [
    "import numpy as np\n",
    "import pandas as pd\n",
    "import seaborn as sns\n",
    "import matplotlib.pyplot as plt\n",
    "import matplotlib as mpl\n",
    "\n",
    "#这里是脱敏数据，使用修改路径即可\n",
    "data = pd.read_csv(\"E:/bladed/test26-abnormal-train.csv\")\n",
    "\n",
    "X = data[data.columns[3:-1]]\n",
    "y = data['target']\n",
    "\n",
    "print(X.shape)\n",
    "print(y.shape)\n",
    "print(y.value_counts())   #1 代表正常，只有正常数据"
   ]
  },
  {
   "cell_type": "markdown",
   "metadata": {},
   "source": [
    "**测试集**"
   ]
  },
  {
   "cell_type": "code",
   "execution_count": 2,
   "metadata": {},
   "outputs": [
    {
     "name": "stdout",
     "output_type": "stream",
     "text": [
      "(701, 13)\n",
      "(701,)\n",
      " 1    502\n",
      "-1    199\n",
      "Name: target, dtype: int64\n"
     ]
    }
   ],
   "source": [
    "test = pd.read_csv(\"E:/bladed/test26_test.csv\")\n",
    "X_test = test[test.columns[3:-1]]\n",
    "y_test = test['target']\n",
    "print(X_test.shape)\n",
    "print(y_test.shape)\n",
    "print(y_test.value_counts())   #1 代表正常，-1代表异常"
   ]
  },
  {
   "cell_type": "code",
   "execution_count": 3,
   "metadata": {},
   "outputs": [],
   "source": [
    "#数据标准化\n",
    "from sklearn.preprocessing import StandardScaler\n",
    "\n",
    "X = StandardScaler().fit_transform(X)\n",
    "X_test = StandardScaler().fit_transform(X_test)"
   ]
  },
  {
   "cell_type": "markdown",
   "metadata": {},
   "source": [
    "### 1. Local Outlier Factor（LOF）\n",
    "\n",
    "\n",
    "#### 1.1 LOF 训练\n",
    "\n",
    "LOF通过计算一个数值score来反映一个样本的异常程度。 这个数值的大致意思是：\n",
    "\n",
    "    一个样本点周围的样本点所处位置的平均密度比上该样本点所在位置的密度。比值越大于1，则该点所在位置的密度越小于其周围样本所在位置的密度。\n",
    "    \n",
    "    \n",
    "    \n",
    "    \n",
    "方法\t|离群点检测`novelty = False`|新奇点检测`novelty = True`\n",
    "--|--|--|\n",
    "fit_predict|\t可用\t|不可用\n",
    "predict\t|不可用\t|只能用于新数据\n",
    "decision_function|\t不可用\t|只能用于新数据\n",
    "score_samples\t|用 negative_outlier_factor_\t|只能用于新数据"
   ]
  },
  {
   "cell_type": "code",
   "execution_count": 4,
   "metadata": {},
   "outputs": [],
   "source": [
    "from sklearn.neighbors import LocalOutlierFactor\n",
    "\n",
    "LOF = LocalOutlierFactor(n_neighbors=100, algorithm='auto', leaf_size=10, metric='minkowski', p=3,\n",
    "                         metric_params=None, contamination='auto', novelty=True, n_jobs=-1).fit(X)\n",
    "LOF_predict = LOF.predict(X)"
   ]
  },
  {
   "cell_type": "code",
   "execution_count": 6,
   "metadata": {},
   "outputs": [
    {
     "name": "stdout",
     "output_type": "stream",
     "text": [
      "混淆矩阵：\n",
      "[[    0     0]\n",
      " [   15 49984]]\n",
      "标准化混淆矩阵：\n",
      "[[0.00000000e+00 0.00000000e+00]\n",
      " [3.00006000e-04 9.99699994e-01]]\n",
      "得分详细：\n",
      "              precision    recall  f1-score   support\n",
      "\n",
      "          -1       0.00      0.00      0.00         0\n",
      "           1       1.00      1.00      1.00     49999\n",
      "\n",
      "    accuracy                           1.00     49999\n",
      "   macro avg       0.50      0.50      0.50     49999\n",
      "weighted avg       1.00      1.00      1.00     49999\n",
      "\n"
     ]
    },
    {
     "name": "stderr",
     "output_type": "stream",
     "text": [
      "C:\\ProgramData\\Anaconda3\\lib\\site-packages\\sklearn\\metrics\\_classification.py:1272: UndefinedMetricWarning: Recall and F-score are ill-defined and being set to 0.0 in labels with no true samples. Use `zero_division` parameter to control this behavior.\n",
      "  _warn_prf(average, modifier, msg_start, len(result))\n"
     ]
    }
   ],
   "source": [
    "from sklearn.metrics import confusion_matrix   #混淆矩阵\n",
    "from sklearn.metrics import accuracy_score     #准确率\n",
    "from sklearn.metrics import precision_score    #精确率\n",
    "from sklearn.metrics import recall_score       #召回率\n",
    "from sklearn.metrics import f1_score           #F1-得分\n",
    "from sklearn.metrics import classification_report\n",
    "\n",
    "print(\"混淆矩阵：\")\n",
    "print(confusion_matrix(y,LOF_predict))\n",
    "print(\"标准化混淆矩阵：\")\n",
    "print(confusion_matrix(y,LOF_predict,normalize='true'))\n",
    "print(\"得分详细：\")\n",
    "print(classification_report(y,LOF_predict))"
   ]
  },
  {
   "cell_type": "markdown",
   "metadata": {},
   "source": [
    "**1.2 LOF 训练结果评价**\n",
    "\n",
    "`classification_report`每个分类标签的精确度，召回率和 F1-score。\n",
    "\n",
    "    精确度：`precision`，正确预测为正的，占全部预测为正的比例，\n",
    "$$TP / (TP+FP)$$\n",
    "    \n",
    "    召回率：`recall`，正确预测为正的，占全部实际为正的比例，\n",
    "$$TP / (TP+FN)$$\n",
    "    \n",
    "    `F1-score`：精确率和召回率的调和平均数，\n",
    "$$2 * precision*recall /(precision+recall)$$\n",
    "    \n",
    "同时还会给出总体的微平均值，宏平均值和加权平均值。\n",
    "\n",
    "    微平均值：micro average，所有数据结果的平均值\n",
    "    \n",
    "    宏平均值：macro average，所有标签结果的平均值\n",
    "    \n",
    "    加权平均值：weighted average，所有标签结果的加权平均值\n",
    "    \n",
    "在二分类场景中，正标签的召回率称为敏感度（sensitivity），负标签的召回率称为特异性（specificity）。"
   ]
  },
  {
   "cell_type": "markdown",
   "metadata": {},
   "source": [
    "#### 1.3 LOF测试"
   ]
  },
  {
   "cell_type": "code",
   "execution_count": 8,
   "metadata": {},
   "outputs": [
    {
     "name": "stdout",
     "output_type": "stream",
     "text": [
      "混淆矩阵：\n",
      "[[175  24]\n",
      " [ 64 438]]\n",
      "标准化混淆矩阵：\n",
      "[[0.87939698 0.12060302]\n",
      " [0.12749004 0.87250996]]\n",
      "得分详细：\n",
      "              precision    recall  f1-score   support\n",
      "\n",
      "          -1       0.73      0.88      0.80       199\n",
      "           1       0.95      0.87      0.91       502\n",
      "\n",
      "    accuracy                           0.87       701\n",
      "   macro avg       0.84      0.88      0.85       701\n",
      "weighted avg       0.89      0.87      0.88       701\n",
      "\n"
     ]
    }
   ],
   "source": [
    "LOF_test = LOF.predict(X_test)\n",
    "print(\"混淆矩阵：\")\n",
    "print(confusion_matrix(y_test,LOF_test))\n",
    "print(\"标准化混淆矩阵：\")\n",
    "print(confusion_matrix(y_test,LOF_test,normalize='true'))\n",
    "print(\"得分详细：\")\n",
    "print(classification_report(y_test,LOF_test))"
   ]
  },
  {
   "cell_type": "code",
   "execution_count": 9,
   "metadata": {},
   "outputs": [
    {
     "data": {
      "image/png": "[encoded data removed]",
      "text/plain": [
       "<Figure size 432x288 with 1 Axes>"
      ]
     },
     "metadata": {
      "needs_background": "light"
     },
     "output_type": "display_data"
    }
   ],
   "source": [
    "from sklearn.metrics import roc_curve          #ROC曲线\n",
    "from sklearn.metrics import roc_auc_score      #AUC面积\n",
    "\n",
    "area = roc_auc_score(y_test,LOF.decision_function(X_test))\n",
    "FPR, recall, thresholds = roc_curve(y_test,LOF.decision_function(X_test))\n",
    "\n",
    "plt.figure()\n",
    "plt.plot(FPR, recall, color='red',label='ROC curve (area = %0.2f)' % area)\n",
    "plt.plot([0, 1], [0, 1], color='black',linestyle='--')\n",
    "plt.xlim([-0.05, 1.05])\n",
    "plt.ylim([-0.05, 1.05])\n",
    "plt.xlabel('False Positive Rate')\n",
    "plt.ylabel('Recall')\n",
    "plt.title('Receiver operating characteristic example')\n",
    "plt.legend(loc=\"lower right\")\n",
    "plt.show()"
   ]
  },
  {
   "cell_type": "markdown",
   "metadata": {},
   "source": [
    "### 2. One-Class SVM\n",
    "\n",
    "\n",
    "#### 2.1 One-Class SVM 训练"
   ]
  },
  {
   "cell_type": "code",
   "execution_count": 29,
   "metadata": {},
   "outputs": [],
   "source": [
    "from sklearn.svm import OneClassSVM\n",
    "OSVM = OneClassSVM(kernel='rbf', degree=3, nu=0.01,gamma=0.1, coef0=0.0, tol=0.001,shrinking=True, \n",
    "                   cache_size=5000, verbose=False, max_iter=-1).fit(X)\n",
    "OSVM_predict = OSVM.predict(X)"
   ]
  },
  {
   "cell_type": "code",
   "execution_count": 30,
   "metadata": {},
   "outputs": [
    {
     "name": "stdout",
     "output_type": "stream",
     "text": [
      "混淆矩阵：\n",
      "[[    0     0]\n",
      " [  519 49480]]\n",
      "标准化混淆矩阵：\n",
      "[[0.         0.        ]\n",
      " [0.01038021 0.98961979]]\n",
      "得分详细：\n",
      "              precision    recall  f1-score   support\n",
      "\n",
      "          -1       0.00      0.00      0.00         0\n",
      "           1       1.00      0.99      0.99     49999\n",
      "\n",
      "    accuracy                           0.99     49999\n",
      "   macro avg       0.50      0.49      0.50     49999\n",
      "weighted avg       1.00      0.99      0.99     49999\n",
      "\n"
     ]
    },
    {
     "name": "stderr",
     "output_type": "stream",
     "text": [
      "C:\\ProgramData\\Anaconda3\\lib\\site-packages\\sklearn\\metrics\\_classification.py:1272: UndefinedMetricWarning: Recall and F-score are ill-defined and being set to 0.0 in labels with no true samples. Use `zero_division` parameter to control this behavior.\n",
      "  _warn_prf(average, modifier, msg_start, len(result))\n"
     ]
    }
   ],
   "source": [
    "print(\"混淆矩阵：\")\n",
    "print(confusion_matrix(y,OSVM_predict))\n",
    "print(\"标准化混淆矩阵：\")\n",
    "print(confusion_matrix(y,OSVM_predict,normalize='true'))\n",
    "print(\"得分详细：\")\n",
    "print(classification_report(y,OSVM_predict))"
   ]
  },
  {
   "cell_type": "markdown",
   "metadata": {},
   "source": [
    "#### 2.2 One-Class SVM 测试"
   ]
  },
  {
   "cell_type": "code",
   "execution_count": 31,
   "metadata": {},
   "outputs": [
    {
     "name": "stdout",
     "output_type": "stream",
     "text": [
      "混淆矩阵：\n",
      "[[193   6]\n",
      " [ 96 406]]\n",
      "标准化混淆矩阵：\n",
      "[[0.96984925 0.03015075]\n",
      " [0.19123506 0.80876494]]\n",
      "得分详细：\n",
      "              precision    recall  f1-score   support\n",
      "\n",
      "          -1       0.67      0.97      0.79       199\n",
      "           1       0.99      0.81      0.89       502\n",
      "\n",
      "    accuracy                           0.85       701\n",
      "   macro avg       0.83      0.89      0.84       701\n",
      "weighted avg       0.90      0.85      0.86       701\n",
      "\n"
     ]
    }
   ],
   "source": [
    "OSVM_test = OSVM.predict(X_test)\n",
    "print(\"混淆矩阵：\")\n",
    "print(confusion_matrix(y_test,OSVM_test))\n",
    "print(\"标准化混淆矩阵：\")\n",
    "print(confusion_matrix(y_test,OSVM_test,normalize='true'))\n",
    "print(\"得分详细：\")\n",
    "print(classification_report(y_test,OSVM_test))"
   ]
  },
  {
   "cell_type": "code",
   "execution_count": 32,
   "metadata": {},
   "outputs": [
    {
     "data": {
      "image/png": "[encoded data removed]",
      "text/plain": [
       "<Figure size 432x288 with 1 Axes>"
      ]
     },
     "metadata": {
      "needs_background": "light"
     },
     "output_type": "display_data"
    }
   ],
   "source": [
    "area = roc_auc_score(y_test,OSVM.decision_function(X_test))\n",
    "FPR, recall, thresholds = roc_curve(y_test,OSVM.decision_function(X_test))\n",
    "\n",
    "plt.figure()\n",
    "plt.plot(FPR, recall, color='red',label='ROC curve (area = %0.2f)' % area)\n",
    "plt.plot([0, 1], [0, 1], color='black',linestyle='--')\n",
    "plt.xlim([-0.05, 1.05])\n",
    "plt.ylim([-0.05, 1.05])\n",
    "plt.xlabel('False Positive Rate')\n",
    "plt.ylabel('Recall')\n",
    "plt.title('Receiver operating characteristic example')\n",
    "plt.legend(loc=\"lower right\")\n",
    "plt.show()"
   ]
  },
  {
   "cell_type": "markdown",
   "metadata": {},
   "source": [
    "<center><h1>总结 </h1></center>\n",
    "\n",
    "\n",
    "半监督学习的算法适用于只有正常数据，没有异常数据的情况下，这种异常值检测也被称作为新奇点检测。这类算法主要有：\n",
    "\n",
    "    Local Outlier Factor（LOF）\n",
    "\n",
    "    One-Class SVM\n",
    "\n"
   ]
  },
  {
   "cell_type": "code",
   "execution_count": null,
   "metadata": {},
   "outputs": [],
   "source": []
  }
 ],
 "metadata": {
  "kernelspec": {
   "display_name": "Python 3",
   "language": "python",
   "name": "python3"
  },
  "language_info": {
   "codemirror_mode": {
    "name": "ipython",
    "version": 3
   },
   "file_extension": ".py",
   "mimetype": "text/x-python",
   "name": "python",
   "nbconvert_exporter": "python",
   "pygments_lexer": "ipython3",
   "version": "3.7.4"
  }
 },
 "nbformat": 4,
 "nbformat_minor": 4
}
