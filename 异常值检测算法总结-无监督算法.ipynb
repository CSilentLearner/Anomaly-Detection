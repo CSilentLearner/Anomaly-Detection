{
 "cells": [
  {
   "cell_type": "markdown",
   "metadata": {},
   "source": [
    "## 1.无监督学习算法\n",
    "\n",
    "无监督学习的算法适用于正常数据和异常数据都存在且没有标签的情况下，这种异常值检测也被称作为离群值检测，所谓离群点检测就是: 训练数据包含离群点,即远离其它内围点。离群点检测估计器会尝试拟合出训练数据中内围点聚集的区域, 会忽略有偏离的观测值。这类算法主要有：\n",
    "\n",
    "    IsolationForest\n",
    "    \n",
    "    DBSCAN\n",
    "    \n",
    "    Local Outlier Factor（LOF）\n",
    "\n",
    "**数据准备**\n",
    "\n",
    "解释：因为是训练模型，所以这里人为的加入了标签，目的在于评价模型预测结果\n",
    "\n",
    "**训练集**"
   ]
  },
  {
   "cell_type": "code",
   "execution_count": 3,
   "metadata": {},
   "outputs": [
    {
     "name": "stdout",
     "output_type": "stream",
     "text": [
      "(49997, 13)\n",
      "(49997,)\n",
      " 1    44998\n",
      "-1     4999\n",
      "Name: target, dtype: int64\n"
     ]
    }
   ],
   "source": [
    "import numpy as np\n",
    "import pandas as pd\n",
    "import seaborn as sns\n",
    "import matplotlib.pyplot as plt\n",
    "import matplotlib as mpl\n",
    "\n",
    "#这里是脱敏数据，使用修改路径即可\n",
    "data = pd.read_csv(\"E:/bladed/test26-abnormal.csv\")\n",
    "\n",
    "X = data[data.columns[:-1]]\n",
    "y = data['target']\n",
    "\n",
    "print(X.shape)\n",
    "print(y.shape)\n",
    "print(y.value_counts())   #1 代表正常，-1代表异常，比例9:1"
   ]
  },
  {
   "cell_type": "markdown",
   "metadata": {},
   "source": [
    "**测试集**"
   ]
  },
  {
   "cell_type": "code",
   "execution_count": 4,
   "metadata": {},
   "outputs": [
    {
     "name": "stdout",
     "output_type": "stream",
     "text": [
      "(701, 13)\n",
      "(701,)\n",
      " 1    502\n",
      "-1    199\n",
      "Name: target, dtype: int64\n"
     ]
    }
   ],
   "source": [
    "test = pd.read_csv(\"E:/bladed/test26_test_13.csv\")\n",
    "X_test = test[test.columns[:-1]]\n",
    "y_test = test['target']\n",
    "print(X_test.shape)\n",
    "print(y_test.shape)\n",
    "print(y_test.value_counts())   #1 代表正常，-1代表异常"
   ]
  },
  {
   "cell_type": "code",
   "execution_count": 5,
   "metadata": {},
   "outputs": [],
   "source": [
    "#数据标准化\n",
    "from sklearn.preprocessing import StandardScaler\n",
    "\n",
    "X = StandardScaler().fit_transform(X)\n",
    "X_test = StandardScaler().fit_transform(X_test)"
   ]
  },
  {
   "cell_type": "markdown",
   "metadata": {},
   "source": [
    "### 1. IsolationForest \n",
    "\n",
    "\n",
    "#### 1.1 IsolationForest 训练"
   ]
  },
  {
   "cell_type": "code",
   "execution_count": 6,
   "metadata": {},
   "outputs": [],
   "source": [
    "#IsolationForest训练拟合\n",
    "from sklearn.ensemble import IsolationForest\n",
    "\n",
    "IF = IsolationForest(n_estimators=900, max_samples='auto', contamination='auto', max_features=1.0, bootstrap=False, n_jobs=-1, \n",
    "                     behaviour='deprecated', random_state=42, verbose=0, warm_start=False).fit(X)"
   ]
  },
  {
   "cell_type": "code",
   "execution_count": 7,
   "metadata": {},
   "outputs": [
    {
     "data": {
      "text/html": [
       "<div>\n",
       "<style scoped>\n",
       "    .dataframe tbody tr th:only-of-type {\n",
       "        vertical-align: middle;\n",
       "    }\n",
       "\n",
       "    .dataframe tbody tr th {\n",
       "        vertical-align: top;\n",
       "    }\n",
       "\n",
       "    .dataframe thead th {\n",
       "        text-align: right;\n",
       "    }\n",
       "</style>\n",
       "<table border=\"1\" class=\"dataframe\">\n",
       "  <thead>\n",
       "    <tr style=\"text-align: right;\">\n",
       "      <th></th>\n",
       "      <th>predict</th>\n",
       "      <th>y</th>\n",
       "    </tr>\n",
       "  </thead>\n",
       "  <tbody>\n",
       "    <tr>\n",
       "      <th>0</th>\n",
       "      <td>1</td>\n",
       "      <td>1</td>\n",
       "    </tr>\n",
       "    <tr>\n",
       "      <th>1</th>\n",
       "      <td>1</td>\n",
       "      <td>1</td>\n",
       "    </tr>\n",
       "    <tr>\n",
       "      <th>2</th>\n",
       "      <td>1</td>\n",
       "      <td>1</td>\n",
       "    </tr>\n",
       "    <tr>\n",
       "      <th>3</th>\n",
       "      <td>1</td>\n",
       "      <td>1</td>\n",
       "    </tr>\n",
       "    <tr>\n",
       "      <th>4</th>\n",
       "      <td>1</td>\n",
       "      <td>1</td>\n",
       "    </tr>\n",
       "    <tr>\n",
       "      <th>...</th>\n",
       "      <td>...</td>\n",
       "      <td>...</td>\n",
       "    </tr>\n",
       "    <tr>\n",
       "      <th>49992</th>\n",
       "      <td>-1</td>\n",
       "      <td>-1</td>\n",
       "    </tr>\n",
       "    <tr>\n",
       "      <th>49993</th>\n",
       "      <td>-1</td>\n",
       "      <td>-1</td>\n",
       "    </tr>\n",
       "    <tr>\n",
       "      <th>49994</th>\n",
       "      <td>-1</td>\n",
       "      <td>-1</td>\n",
       "    </tr>\n",
       "    <tr>\n",
       "      <th>49995</th>\n",
       "      <td>-1</td>\n",
       "      <td>-1</td>\n",
       "    </tr>\n",
       "    <tr>\n",
       "      <th>49996</th>\n",
       "      <td>-1</td>\n",
       "      <td>-1</td>\n",
       "    </tr>\n",
       "  </tbody>\n",
       "</table>\n",
       "<p>49997 rows × 2 columns</p>\n",
       "</div>"
      ],
      "text/plain": [
       "       predict  y\n",
       "0            1  1\n",
       "1            1  1\n",
       "2            1  1\n",
       "3            1  1\n",
       "4            1  1\n",
       "...        ... ..\n",
       "49992       -1 -1\n",
       "49993       -1 -1\n",
       "49994       -1 -1\n",
       "49995       -1 -1\n",
       "49996       -1 -1\n",
       "\n",
       "[49997 rows x 2 columns]"
      ]
     },
     "execution_count": 7,
     "metadata": {},
     "output_type": "execute_result"
    }
   ],
   "source": [
    "#预测结果展示比较\n",
    "IF_predict = IF.predict(X)\n",
    "train_if = pd.DataFrame(IF_predict,columns=[\"predict\"])\n",
    "train_if[\"y\"] = y\n",
    "train_if"
   ]
  },
  {
   "cell_type": "markdown",
   "metadata": {},
   "source": [
    "**1.2 IsolationForest 训练结果评价**\n",
    "\n",
    "|  |  |预测值 | |\n",
    "|--|--|--|--|\n",
    "|  |  |-1 | 1|\n",
    "|  真实值 | -1 |TP（-1-1） | FN（-11）|\n",
    "| | 1 | FP（1-1）|TN（11） |\n",
    "　　"
   ]
  },
  {
   "cell_type": "markdown",
   "metadata": {},
   "source": [
    "`classification_report`每个分类标签的精确度，召回率和 F1-score。\n",
    "\n",
    "    精确度：`precision`，正确预测为正的，占全部预测为正的比例，\n",
    "$$TP / (TP+FP)$$\n",
    "    \n",
    "    召回率：`recall`，正确预测为正的，占全部实际为正的比例，\n",
    "$$TP / (TP+FN)$$\n",
    "    \n",
    "    `F1-score`：精确率和召回率的调和平均数，\n",
    "$$2 * precision*recall /(precision+recall)$$\n",
    "    \n",
    "同时还会给出总体的微平均值，宏平均值和加权平均值。\n",
    "\n",
    "    微平均值：micro average，所有数据结果的平均值\n",
    "    \n",
    "    宏平均值：macro average，所有标签结果的平均值\n",
    "    \n",
    "    加权平均值：weighted average，所有标签结果的加权平均值\n",
    "    \n",
    "在二分类场景中，正标签的召回率称为敏感度（sensitivity），负标签的召回率称为特异性（specificity）。"
   ]
  },
  {
   "cell_type": "code",
   "execution_count": 119,
   "metadata": {},
   "outputs": [
    {
     "name": "stdout",
     "output_type": "stream",
     "text": [
      "混淆矩阵：\n",
      "[[ 3259  1740]\n",
      " [ 5092 39906]]\n",
      "标准化混淆矩阵：\n",
      "[[0.65193039 0.34806961]\n",
      " [0.11316058 0.88683942]]\n",
      "得分详细：\n",
      "              precision    recall  f1-score   support\n",
      "\n",
      "          -1       0.39      0.65      0.49      4999\n",
      "           1       0.96      0.89      0.92     44998\n",
      "\n",
      "    accuracy                           0.86     49997\n",
      "   macro avg       0.67      0.77      0.70     49997\n",
      "weighted avg       0.90      0.86      0.88     49997\n",
      "\n"
     ]
    }
   ],
   "source": [
    "from sklearn.metrics import confusion_matrix   #混淆矩阵\n",
    "from sklearn.metrics import accuracy_score     #准确率\n",
    "from sklearn.metrics import precision_score    #精确率\n",
    "from sklearn.metrics import recall_score       #召回率\n",
    "from sklearn.metrics import f1_score           #F1-得分\n",
    "from sklearn.metrics import classification_report\n",
    "\n",
    "print(\"混淆矩阵：\")\n",
    "print(confusion_matrix(y,IF_predict))\n",
    "print(\"标准化混淆矩阵：\")\n",
    "print(confusion_matrix(y,IF_predict,normalize='true'))\n",
    "print(\"得分详细：\")\n",
    "print(classification_report(y,IF_predict))"
   ]
  },
  {
   "cell_type": "code",
   "execution_count": 118,
   "metadata": {},
   "outputs": [
    {
     "data": {
      "image/png": "[encoded data removed]",
      "text/plain": [
       "<Figure size 432x288 with 1 Axes>"
      ]
     },
     "metadata": {
      "needs_background": "light"
     },
     "output_type": "display_data"
    }
   ],
   "source": [
    "from sklearn.metrics import roc_curve          #ROC曲线\n",
    "from sklearn.metrics import roc_auc_score      #AUC面积\n",
    "\n",
    "area = roc_auc_score(y,IF.decision_function(X))\n",
    "FPR, recall, thresholds = roc_curve(y,IF.decision_function(X))\n",
    "\n",
    "plt.figure()\n",
    "plt.plot(FPR, recall, color='red',label='ROC curve (area = %0.2f)' % area)\n",
    "plt.plot([0, 1], [0, 1], color='black',linestyle='--')\n",
    "plt.xlim([-0.05, 1.05])\n",
    "plt.ylim([-0.05, 1.05])\n",
    "plt.xlabel('False Positive Rate')\n",
    "plt.ylabel('Recall')\n",
    "plt.title('Receiver operating characteristic example')\n",
    "plt.legend(loc=\"lower right\")\n",
    "plt.show()"
   ]
  },
  {
   "cell_type": "markdown",
   "metadata": {},
   "source": [
    "**1.3 IsolationForest 测试结果评价**\n",
    "\n",
    "|  |  |预测值 | |\n",
    "|--|--|--|--|\n",
    "|  |  |-1 | 1|\n",
    "|  真实值 | -1 |TP（-1-1） | FN（-11）|\n",
    "| | 1 | FP（1-1）|TN（11） |\n",
    "　　"
   ]
  },
  {
   "cell_type": "code",
   "execution_count": 10,
   "metadata": {},
   "outputs": [],
   "source": [
    "IF_test = IF.predict(X_test)    #测试预测结果\n",
    "IF_decision_function = IF.decision_function(X_test)   #测试预测决策函数结果\n",
    "IF_score_samples = IF.score_samples(X_test)       #测试预测样本得分"
   ]
  },
  {
   "cell_type": "code",
   "execution_count": 11,
   "metadata": {},
   "outputs": [
    {
     "data": {
      "text/html": [
       "<div>\n",
       "<style scoped>\n",
       "    .dataframe tbody tr th:only-of-type {\n",
       "        vertical-align: middle;\n",
       "    }\n",
       "\n",
       "    .dataframe tbody tr th {\n",
       "        vertical-align: top;\n",
       "    }\n",
       "\n",
       "    .dataframe thead th {\n",
       "        text-align: right;\n",
       "    }\n",
       "</style>\n",
       "<table border=\"1\" class=\"dataframe\">\n",
       "  <thead>\n",
       "    <tr style=\"text-align: right;\">\n",
       "      <th></th>\n",
       "      <th>predict</th>\n",
       "      <th>y_test</th>\n",
       "      <th>decision_function</th>\n",
       "      <th>score_samples</th>\n",
       "    </tr>\n",
       "  </thead>\n",
       "  <tbody>\n",
       "    <tr>\n",
       "      <th>0</th>\n",
       "      <td>-1</td>\n",
       "      <td>1</td>\n",
       "      <td>-0.005467</td>\n",
       "      <td>-0.505467</td>\n",
       "    </tr>\n",
       "    <tr>\n",
       "      <th>1</th>\n",
       "      <td>-1</td>\n",
       "      <td>1</td>\n",
       "      <td>-0.004929</td>\n",
       "      <td>-0.504929</td>\n",
       "    </tr>\n",
       "    <tr>\n",
       "      <th>2</th>\n",
       "      <td>-1</td>\n",
       "      <td>1</td>\n",
       "      <td>-0.010680</td>\n",
       "      <td>-0.510680</td>\n",
       "    </tr>\n",
       "    <tr>\n",
       "      <th>3</th>\n",
       "      <td>-1</td>\n",
       "      <td>1</td>\n",
       "      <td>-0.025672</td>\n",
       "      <td>-0.525672</td>\n",
       "    </tr>\n",
       "    <tr>\n",
       "      <th>4</th>\n",
       "      <td>-1</td>\n",
       "      <td>1</td>\n",
       "      <td>-0.039898</td>\n",
       "      <td>-0.539898</td>\n",
       "    </tr>\n",
       "    <tr>\n",
       "      <th>...</th>\n",
       "      <td>...</td>\n",
       "      <td>...</td>\n",
       "      <td>...</td>\n",
       "      <td>...</td>\n",
       "    </tr>\n",
       "    <tr>\n",
       "      <th>696</th>\n",
       "      <td>-1</td>\n",
       "      <td>-1</td>\n",
       "      <td>-0.100574</td>\n",
       "      <td>-0.600574</td>\n",
       "    </tr>\n",
       "    <tr>\n",
       "      <th>697</th>\n",
       "      <td>-1</td>\n",
       "      <td>-1</td>\n",
       "      <td>-0.093604</td>\n",
       "      <td>-0.593604</td>\n",
       "    </tr>\n",
       "    <tr>\n",
       "      <th>698</th>\n",
       "      <td>-1</td>\n",
       "      <td>-1</td>\n",
       "      <td>-0.084548</td>\n",
       "      <td>-0.584548</td>\n",
       "    </tr>\n",
       "    <tr>\n",
       "      <th>699</th>\n",
       "      <td>-1</td>\n",
       "      <td>-1</td>\n",
       "      <td>-0.074774</td>\n",
       "      <td>-0.574774</td>\n",
       "    </tr>\n",
       "    <tr>\n",
       "      <th>700</th>\n",
       "      <td>-1</td>\n",
       "      <td>-1</td>\n",
       "      <td>-0.077511</td>\n",
       "      <td>-0.577511</td>\n",
       "    </tr>\n",
       "  </tbody>\n",
       "</table>\n",
       "<p>701 rows × 4 columns</p>\n",
       "</div>"
      ],
      "text/plain": [
       "     predict  y_test  decision_function  score_samples\n",
       "0         -1       1          -0.005467      -0.505467\n",
       "1         -1       1          -0.004929      -0.504929\n",
       "2         -1       1          -0.010680      -0.510680\n",
       "3         -1       1          -0.025672      -0.525672\n",
       "4         -1       1          -0.039898      -0.539898\n",
       "..       ...     ...                ...            ...\n",
       "696       -1      -1          -0.100574      -0.600574\n",
       "697       -1      -1          -0.093604      -0.593604\n",
       "698       -1      -1          -0.084548      -0.584548\n",
       "699       -1      -1          -0.074774      -0.574774\n",
       "700       -1      -1          -0.077511      -0.577511\n",
       "\n",
       "[701 rows x 4 columns]"
      ]
     },
     "execution_count": 11,
     "metadata": {},
     "output_type": "execute_result"
    }
   ],
   "source": [
    "#形成DataFrame,便于展示\n",
    "IF_tests=pd.DataFrame(IF_test,columns = [\"predict\"])\n",
    "IF_tests[\"y_test\"] = y_test\n",
    "IF_tests[\"decision_function\"] = IF_decision_function\n",
    "IF_tests[\"score_samples\"] = IF_score_samples\n",
    "IF_tests"
   ]
  },
  {
   "cell_type": "code",
   "execution_count": 120,
   "metadata": {},
   "outputs": [
    {
     "name": "stdout",
     "output_type": "stream",
     "text": [
      "测试混淆矩阵：\n",
      "[[176  23]\n",
      " [ 76 426]]\n",
      "测试标准化混淆矩阵：\n",
      "[[0.88442211 0.11557789]\n",
      " [0.15139442 0.84860558]]\n",
      "得分详细：\n",
      "              precision    recall  f1-score   support\n",
      "\n",
      "          -1       0.70      0.88      0.78       199\n",
      "           1       0.95      0.85      0.90       502\n",
      "\n",
      "    accuracy                           0.86       701\n",
      "   macro avg       0.82      0.87      0.84       701\n",
      "weighted avg       0.88      0.86      0.86       701\n",
      "\n"
     ]
    }
   ],
   "source": [
    "#测试集评价指标结果\n",
    "\n",
    "print(\"测试混淆矩阵：\")\n",
    "print(confusion_matrix(y_test,IF_test))\n",
    "print(\"测试标准化混淆矩阵：\")\n",
    "print(confusion_matrix(y_test,IF_test,normalize='true'))\n",
    "print(\"得分详细：\")\n",
    "print(classification_report(y_test,IF_test))"
   ]
  },
  {
   "cell_type": "code",
   "execution_count": 13,
   "metadata": {},
   "outputs": [
    {
     "data": {
      "image/png": "[encoded data removed]",
      "text/plain": [
       "<Figure size 432x288 with 1 Axes>"
      ]
     },
     "metadata": {
      "needs_background": "light"
     },
     "output_type": "display_data"
    }
   ],
   "source": [
    "from sklearn.metrics import roc_curve          #ROC曲线\n",
    "from sklearn.metrics import roc_auc_score      #AUC面积\n",
    "\n",
    "area = roc_auc_score(y_test,IF.decision_function(X_test))\n",
    "FPR, recall, thresholds = roc_curve(y_test,IF.decision_function(X_test))\n",
    "\n",
    "plt.figure()\n",
    "plt.plot(FPR, recall, color='red',label='ROC curve (area = %0.2f)' % area)\n",
    "plt.plot([0, 1], [0, 1], color='black',linestyle='--')\n",
    "plt.xlim([-0.05, 1.05])\n",
    "plt.ylim([-0.05, 1.05])\n",
    "plt.xlabel('False Positive Rate')\n",
    "plt.ylabel('Recall')\n",
    "plt.title('Receiver operating characteristic example')\n",
    "plt.legend(loc=\"lower right\")\n",
    "plt.show()"
   ]
  },
  {
   "cell_type": "markdown",
   "metadata": {},
   "source": [
    "### 2 DBSCAN\n",
    "\n",
    "#### 2.1 DBSCAN训练\n",
    "\n",
    "以每个点为中心，设定邻域及邻域内需要有多少个点，如果样本点大于指定要求，则认为该点与邻域内的点属于同一类，如果小于指定值，若该点位于其它点的邻域内，则属于边界点。\n",
    "\n",
    "设定两个参数:\n",
    "\n",
    "    eps为领域的大小\n",
    "    \n",
    "    min_samples为领域内最小点的个数点。"
   ]
  },
  {
   "cell_type": "code",
   "execution_count": 105,
   "metadata": {},
   "outputs": [],
   "source": [
    "from sklearn.cluster import DBSCAN\n",
    "DB = DBSCAN(eps=0.9, min_samples=5, metric='euclidean', metric_params=None, \n",
    "            algorithm='auto', leaf_size=30, p=None, n_jobs=-1).fit(X)\n"
   ]
  },
  {
   "cell_type": "code",
   "execution_count": 106,
   "metadata": {},
   "outputs": [],
   "source": [
    "labels = DB.labels_ # 获取类别标签，-1表示未分类\n",
    "\n",
    "labels[labels>=0]=1 #筛选出异常值"
   ]
  },
  {
   "cell_type": "code",
   "execution_count": 107,
   "metadata": {},
   "outputs": [
    {
     "data": {
      "text/html": [
       "<div>\n",
       "<style scoped>\n",
       "    .dataframe tbody tr th:only-of-type {\n",
       "        vertical-align: middle;\n",
       "    }\n",
       "\n",
       "    .dataframe tbody tr th {\n",
       "        vertical-align: top;\n",
       "    }\n",
       "\n",
       "    .dataframe thead th {\n",
       "        text-align: right;\n",
       "    }\n",
       "</style>\n",
       "<table border=\"1\" class=\"dataframe\">\n",
       "  <thead>\n",
       "    <tr style=\"text-align: right;\">\n",
       "      <th></th>\n",
       "      <th>predict</th>\n",
       "      <th>y</th>\n",
       "    </tr>\n",
       "  </thead>\n",
       "  <tbody>\n",
       "    <tr>\n",
       "      <th>0</th>\n",
       "      <td>1</td>\n",
       "      <td>1</td>\n",
       "    </tr>\n",
       "    <tr>\n",
       "      <th>1</th>\n",
       "      <td>1</td>\n",
       "      <td>1</td>\n",
       "    </tr>\n",
       "    <tr>\n",
       "      <th>2</th>\n",
       "      <td>1</td>\n",
       "      <td>1</td>\n",
       "    </tr>\n",
       "    <tr>\n",
       "      <th>3</th>\n",
       "      <td>1</td>\n",
       "      <td>1</td>\n",
       "    </tr>\n",
       "    <tr>\n",
       "      <th>4</th>\n",
       "      <td>1</td>\n",
       "      <td>1</td>\n",
       "    </tr>\n",
       "    <tr>\n",
       "      <th>...</th>\n",
       "      <td>...</td>\n",
       "      <td>...</td>\n",
       "    </tr>\n",
       "    <tr>\n",
       "      <th>49992</th>\n",
       "      <td>-1</td>\n",
       "      <td>-1</td>\n",
       "    </tr>\n",
       "    <tr>\n",
       "      <th>49993</th>\n",
       "      <td>-1</td>\n",
       "      <td>-1</td>\n",
       "    </tr>\n",
       "    <tr>\n",
       "      <th>49994</th>\n",
       "      <td>-1</td>\n",
       "      <td>-1</td>\n",
       "    </tr>\n",
       "    <tr>\n",
       "      <th>49995</th>\n",
       "      <td>-1</td>\n",
       "      <td>-1</td>\n",
       "    </tr>\n",
       "    <tr>\n",
       "      <th>49996</th>\n",
       "      <td>-1</td>\n",
       "      <td>-1</td>\n",
       "    </tr>\n",
       "  </tbody>\n",
       "</table>\n",
       "<p>49997 rows × 2 columns</p>\n",
       "</div>"
      ],
      "text/plain": [
       "       predict  y\n",
       "0            1  1\n",
       "1            1  1\n",
       "2            1  1\n",
       "3            1  1\n",
       "4            1  1\n",
       "...        ... ..\n",
       "49992       -1 -1\n",
       "49993       -1 -1\n",
       "49994       -1 -1\n",
       "49995       -1 -1\n",
       "49996       -1 -1\n",
       "\n",
       "[49997 rows x 2 columns]"
      ]
     },
     "execution_count": 107,
     "metadata": {},
     "output_type": "execute_result"
    }
   ],
   "source": [
    "#预测结果展示比较\n",
    "train_DB = pd.DataFrame(labels,columns=[\"predict\"])\n",
    "train_DB[\"y\"] = y\n",
    "train_DB"
   ]
  },
  {
   "cell_type": "code",
   "execution_count": 108,
   "metadata": {},
   "outputs": [
    {
     "data": {
      "text/plain": [
       " 1    40005\n",
       "-1     9992\n",
       "Name: predict, dtype: int64"
      ]
     },
     "execution_count": 108,
     "metadata": {},
     "output_type": "execute_result"
    }
   ],
   "source": [
    "train_DB[\"predict\"].value_counts()"
   ]
  },
  {
   "cell_type": "code",
   "execution_count": 121,
   "metadata": {},
   "outputs": [
    {
     "name": "stdout",
     "output_type": "stream",
     "text": [
      "混淆矩阵：\n",
      "[[ 3253  1746]\n",
      " [ 6739 38259]]\n",
      "标准化混淆矩阵：\n",
      "[[0.65073015 0.34926985]\n",
      " [0.14976221 0.85023779]]\n",
      "得分详细：\n",
      "              precision    recall  f1-score   support\n",
      "\n",
      "          -1       0.33      0.65      0.43      4999\n",
      "           1       0.96      0.85      0.90     44998\n",
      "\n",
      "    accuracy                           0.83     49997\n",
      "   macro avg       0.64      0.75      0.67     49997\n",
      "weighted avg       0.89      0.83      0.85     49997\n",
      "\n"
     ]
    }
   ],
   "source": [
    "print(\"混淆矩阵：\")\n",
    "print(confusion_matrix(y,labels))\n",
    "print(\"标准化混淆矩阵：\")\n",
    "print(confusion_matrix(y,labels,normalize='true'))\n",
    "print(\"得分详细：\")\n",
    "print(classification_report(y,labels))"
   ]
  },
  {
   "cell_type": "markdown",
   "metadata": {},
   "source": [
    "**2.3 DBSCAN 测试结果评价**"
   ]
  },
  {
   "cell_type": "code",
   "execution_count": 110,
   "metadata": {},
   "outputs": [],
   "source": [
    "labels_test = DB.fit_predict(X_test)\n",
    "labels_test[labels_test>=0]=1 #筛选出异常值"
   ]
  },
  {
   "cell_type": "code",
   "execution_count": 122,
   "metadata": {},
   "outputs": [
    {
     "name": "stdout",
     "output_type": "stream",
     "text": [
      "测试混淆矩阵：\n",
      "[[159  40]\n",
      " [124 378]]\n",
      "测试标准化混淆矩阵：\n",
      "[[0.79899497 0.20100503]\n",
      " [0.24701195 0.75298805]]\n",
      "得分详细：\n",
      "              precision    recall  f1-score   support\n",
      "\n",
      "          -1       0.56      0.80      0.66       199\n",
      "           1       0.90      0.75      0.82       502\n",
      "\n",
      "    accuracy                           0.77       701\n",
      "   macro avg       0.73      0.78      0.74       701\n",
      "weighted avg       0.81      0.77      0.78       701\n",
      "\n"
     ]
    }
   ],
   "source": [
    "#测试集评价指标结果\n",
    "\n",
    "print(\"测试混淆矩阵：\")\n",
    "print(confusion_matrix(y_test,labels_test))\n",
    "print(\"测试标准化混淆矩阵：\")\n",
    "print(confusion_matrix(y_test,labels_test,normalize='true'))\n",
    "print(\"得分详细：\")\n",
    "print(classification_report(y_test,labels_test))"
   ]
  },
  {
   "cell_type": "markdown",
   "metadata": {},
   "source": [
    "### 3 LOF\n",
    "\n",
    "#### 3.1 LOF训练\n",
    "\n",
    "LOF通过计算一个数值score来反映一个样本的异常程度。 这个数值的大致意思是：\n",
    "\n",
    "    一个样本点周围的样本点所处位置的平均密度比上该样本点所在位置的密度。比值越大于1，则该点所在位置的密度越小于其周围样本所在位置的密度。\n",
    "    \n",
    "    \n",
    "    \n",
    "    \n",
    "方法\t|离群点检测`novelty = False`|新奇点检测`novelty = True`\n",
    "--|--|--|\n",
    "fit_predict|\t可用\t|不可用\n",
    "predict\t|不可用\t|只能用于新数据\n",
    "decision_function|\t不可用\t|只能用于新数据\n",
    "score_samples\t|用 negative_outlier_factor_\t|只能用于新数据"
   ]
  },
  {
   "cell_type": "code",
   "execution_count": 131,
   "metadata": {},
   "outputs": [],
   "source": [
    "from sklearn.neighbors import LocalOutlierFactor\n",
    "LOF = LocalOutlierFactor(n_neighbors=70, algorithm='auto', leaf_size=5, metric='minkowski',p=2, \n",
    "                         metric_params=None, contamination='auto', novelty=False, n_jobs=-1).fit(X)\n",
    "LOF_predict = LOF.fit_predict(X)"
   ]
  },
  {
   "cell_type": "code",
   "execution_count": 132,
   "metadata": {},
   "outputs": [
    {
     "name": "stdout",
     "output_type": "stream",
     "text": [
      "混淆矩阵：\n",
      "[[   13  4986]\n",
      " [    3 44995]]\n",
      "标准化混淆矩阵：\n",
      "[[2.60052010e-03 9.97399480e-01]\n",
      " [6.66696298e-05 9.99933330e-01]]\n",
      "得分详细：\n",
      "              precision    recall  f1-score   support\n",
      "\n",
      "          -1       0.81      0.00      0.01      4999\n",
      "           1       0.90      1.00      0.95     44998\n",
      "\n",
      "    accuracy                           0.90     49997\n",
      "   macro avg       0.86      0.50      0.48     49997\n",
      "weighted avg       0.89      0.90      0.85     49997\n",
      "\n"
     ]
    }
   ],
   "source": [
    "print(\"混淆矩阵：\")\n",
    "print(confusion_matrix(y,LOF_predict))\n",
    "print(\"标准化混淆矩阵：\")\n",
    "print(confusion_matrix(y,LOF_predict,normalize='true'))\n",
    "print(\"得分详细：\")\n",
    "print(classification_report(y,LOF_predict))"
   ]
  },
  {
   "cell_type": "code",
   "execution_count": 133,
   "metadata": {},
   "outputs": [
    {
     "data": {
      "image/png": "[encoded data removed]",
      "text/plain": [
       "<Figure size 432x288 with 1 Axes>"
      ]
     },
     "metadata": {
      "needs_background": "light"
     },
     "output_type": "display_data"
    }
   ],
   "source": [
    "area = roc_auc_score(y,LOF.negative_outlier_factor_)\n",
    "FPR, recall, thresholds = roc_curve(y,LOF.negative_outlier_factor_)\n",
    "\n",
    "plt.figure()\n",
    "plt.plot(FPR, recall, color='red',label='ROC curve (area = %0.2f)' % area)\n",
    "plt.plot([0, 1], [0, 1], color='black',linestyle='--')\n",
    "plt.xlim([-0.05, 1.05])\n",
    "plt.ylim([-0.05, 1.05])\n",
    "plt.xlabel('False Positive Rate')\n",
    "plt.ylabel('Recall')\n",
    "plt.title('Receiver operating characteristic example')\n",
    "plt.legend(loc=\"lower right\")\n",
    "plt.show()"
   ]
  },
  {
   "cell_type": "markdown",
   "metadata": {},
   "source": [
    "#### 3.2 LOF测试"
   ]
  },
  {
   "cell_type": "code",
   "execution_count": 135,
   "metadata": {},
   "outputs": [],
   "source": [
    "LOF_test = LOF.fit_predict(X_test)"
   ]
  },
  {
   "cell_type": "code",
   "execution_count": 136,
   "metadata": {},
   "outputs": [
    {
     "name": "stdout",
     "output_type": "stream",
     "text": [
      "混淆矩阵：\n",
      "[[  2 197]\n",
      " [  0 502]]\n",
      "标准化混淆矩阵：\n",
      "[[0.01005025 0.98994975]\n",
      " [0.         1.        ]]\n",
      "得分详细：\n",
      "              precision    recall  f1-score   support\n",
      "\n",
      "          -1       1.00      0.01      0.02       199\n",
      "           1       0.72      1.00      0.84       502\n",
      "\n",
      "    accuracy                           0.72       701\n",
      "   macro avg       0.86      0.51      0.43       701\n",
      "weighted avg       0.80      0.72      0.60       701\n",
      "\n"
     ]
    }
   ],
   "source": [
    "print(\"混淆矩阵：\")\n",
    "print(confusion_matrix(y_test,LOF_test))\n",
    "print(\"标准化混淆矩阵：\")\n",
    "print(confusion_matrix(y_test,LOF_test,normalize='true'))\n",
    "print(\"得分详细：\")\n",
    "print(classification_report(y_test,LOF_test))"
   ]
  },
  {
   "cell_type": "markdown",
   "metadata": {},
   "source": [
    "<center><h1>总结</h1></center>\n",
    "\n",
    "无监督学习的算法适用于正常数据和异常数据都存在且没有标签的情况下，这种异常值检测也被称作为离群值检测，所谓离群点检测就是: 训练数据包含离群点,即远离其它内围点。离群点检测估计器会尝试拟合出训练数据中内围点聚集的区域, 会忽略有偏离的观测值。这类算法主要有：\n",
    "\n",
    "    IsolationForest（最优）\n",
    "    \n",
    "    DBSCAN（难调参）\n",
    "    \n",
    "    Local Outlier Factor（LOF）（效果糟糕）\n",
    "    \n",
    "    "
   ]
  },
  {
   "cell_type": "code",
   "execution_count": null,
   "metadata": {},
   "outputs": [],
   "source": []
  }
 ],
 "metadata": {
  "kernelspec": {
   "display_name": "Python 3",
   "language": "python",
   "name": "python3"
  },
  "language_info": {
   "codemirror_mode": {
    "name": "ipython",
    "version": 3
   },
   "file_extension": ".py",
   "mimetype": "text/x-python",
   "name": "python",
   "nbconvert_exporter": "python",
   "pygments_lexer": "ipython3",
   "version": "3.7.4"
  }
 },
 "nbformat": 4,
 "nbformat_minor": 4
}
